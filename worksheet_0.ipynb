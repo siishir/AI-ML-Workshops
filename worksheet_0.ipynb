{
  "nbformat": 4,
  "nbformat_minor": 0,
  "metadata": {
    "colab": {
      "provenance": []
    },
    "kernelspec": {
      "name": "python3",
      "display_name": "Python 3"
    },
    "language_info": {
      "name": "python"
    }
  },
  "cells": [
    {
      "cell_type": "markdown",
      "source": [
        "10.1 Basic Vector and Matrix Operation with Numpy.\n",
        "Problem - 1: Array Creation:\n",
        "\n",
        "Complete the following Tasks:\n",
        "1. Initialize an empty array with size 2X2."
      ],
      "metadata": {
        "id": "Lq9DlMBBtD3P"
      }
    },
    {
      "cell_type": "code",
      "execution_count": null,
      "metadata": {
        "colab": {
          "base_uri": "https://localhost:8080/"
        },
        "id": "qswKPH1Ts-6r",
        "outputId": "88004758-9dec-4d7b-d75b-f1260b98bf41"
      },
      "outputs": [
        {
          "output_type": "stream",
          "name": "stdout",
          "text": [
            "[[-2.    1.  ]\n",
            " [ 1.75 -0.75]]\n"
          ]
        }
      ],
      "source": [
        "import numpy as np\n",
        "array_2x2 = np.empty((2, 2))\n",
        "print(array_2x2)\n"
      ]
    },
    {
      "cell_type": "markdown",
      "source": [
        "2. Initialize an all one array with size 4X2."
      ],
      "metadata": {
        "id": "iguWk4n0vbR4"
      }
    },
    {
      "cell_type": "code",
      "source": [
        "import numpy as np\n",
        "array_4x2 = np.ones((4, 2))\n",
        "print(array_4x2)\n"
      ],
      "metadata": {
        "colab": {
          "base_uri": "https://localhost:8080/"
        },
        "id": "-0uTXoqMvb1u",
        "outputId": "8b17ea79-2a54-4443-8729-fb86aff849cd"
      },
      "execution_count": null,
      "outputs": [
        {
          "output_type": "stream",
          "name": "stdout",
          "text": [
            "[[1. 1.]\n",
            " [1. 1.]\n",
            " [1. 1.]\n",
            " [1. 1.]]\n"
          ]
        }
      ]
    },
    {
      "cell_type": "markdown",
      "source": [
        "3. Return a new array of given shape and type, filled with fill value.{Hint: np.full}"
      ],
      "metadata": {
        "id": "-yIMxz_NwLo-"
      }
    },
    {
      "cell_type": "code",
      "source": [
        "shape = (3, 3)  # Example shape\n",
        "fill_value = 7  # Example fill value\n",
        "dtype = int  # Example data type\n",
        "\n",
        "# Create the array\n",
        "array_filled = np.full(shape, fill_value, dtype=dtype)\n",
        "\n",
        "print(array_filled)"
      ],
      "metadata": {
        "colab": {
          "base_uri": "https://localhost:8080/"
        },
        "id": "Mfn3YcXKwM9G",
        "outputId": "ae371d48-ade5-4503-a51a-42086bfa7ef9"
      },
      "execution_count": null,
      "outputs": [
        {
          "output_type": "stream",
          "name": "stdout",
          "text": [
            "[[7 7 7]\n",
            " [7 7 7]\n",
            " [7 7 7]]\n"
          ]
        }
      ]
    },
    {
      "cell_type": "markdown",
      "source": [
        "4. Return a new array of zeros with same shape and type as a given array.{Hint: np.zeros like}"
      ],
      "metadata": {
        "id": "dV1TNzZswZaW"
      }
    },
    {
      "cell_type": "code",
      "source": [
        "given_array = np.array([[4, 5, 6], [7, 8, 9]])\n",
        "\n",
        "# Create a new array of zeros with the same shape and type\n",
        "zeros_array = np.zeros_like(given_array)\n",
        "\n",
        "print(zeros_array)"
      ],
      "metadata": {
        "colab": {
          "base_uri": "https://localhost:8080/"
        },
        "id": "HsK9VULcwZ1I",
        "outputId": "027404fc-ba1d-4043-b86a-6928e39d8f9e"
      },
      "execution_count": null,
      "outputs": [
        {
          "output_type": "stream",
          "name": "stdout",
          "text": [
            "[[0 0 0]\n",
            " [0 0 0]]\n"
          ]
        }
      ]
    },
    {
      "cell_type": "markdown",
      "source": [
        "5. Return a new array of ones with same shape and type as a given array.{Hint: np.ones like}"
      ],
      "metadata": {
        "id": "MYNvd3j0w0HG"
      }
    },
    {
      "cell_type": "code",
      "source": [
        "given_array = np.array([[2, 3, 4], [5, 6, 7]])\n",
        "\n",
        "# Create a new array of ones with the same shape and type\n",
        "ones_array = np.ones_like(given_array)\n",
        "\n",
        "print(ones_array)"
      ],
      "metadata": {
        "colab": {
          "base_uri": "https://localhost:8080/"
        },
        "id": "iIsZMCqnw0e-",
        "outputId": "118db7dd-eed5-4826-a405-cda5b5a023eb"
      },
      "execution_count": null,
      "outputs": [
        {
          "output_type": "stream",
          "name": "stdout",
          "text": [
            "[[1 1 1]\n",
            " [1 1 1]]\n"
          ]
        }
      ]
    },
    {
      "cell_type": "markdown",
      "source": [
        "6. For an existing list new_list = [1,2,3,4] convert to an numpy array.{Hint: np.array()}"
      ],
      "metadata": {
        "id": "V-lakAksw2ln"
      }
    },
    {
      "cell_type": "code",
      "source": [
        "new_list = [1, 2, 3, 4]\n",
        "\n",
        "# Convert to NumPy array\n",
        "numpy_array = np.array(new_list)\n",
        "\n",
        "print(numpy_array)"
      ],
      "metadata": {
        "colab": {
          "base_uri": "https://localhost:8080/"
        },
        "id": "xma0zwiaw31_",
        "outputId": "4ef985de-fd55-46c2-9000-7990284f558a"
      },
      "execution_count": null,
      "outputs": [
        {
          "output_type": "stream",
          "name": "stdout",
          "text": [
            "[1 2 3 4]\n"
          ]
        }
      ]
    },
    {
      "cell_type": "markdown",
      "source": [
        "Problem - 2: Array Manipulation: Numerical Ranges and Array indexing:\n",
        "\n",
        "Complete the following tasks:\n",
        "1. Create an array with values ranging from 10 to 49. {Hint:np.arrange()}."
      ],
      "metadata": {
        "id": "hljmvKSExEiu"
      }
    },
    {
      "cell_type": "code",
      "source": [
        "array_range = np.arange(10, 50)\n",
        "\n",
        "print(array_range)"
      ],
      "metadata": {
        "colab": {
          "base_uri": "https://localhost:8080/"
        },
        "id": "mcz2uMrExFum",
        "outputId": "2c000c4d-9f06-46d2-9c9b-354318a18a32"
      },
      "execution_count": null,
      "outputs": [
        {
          "output_type": "stream",
          "name": "stdout",
          "text": [
            "[10 11 12 13 14 15 16 17 18 19 20 21 22 23 24 25 26 27 28 29 30 31 32 33\n",
            " 34 35 36 37 38 39 40 41 42 43 44 45 46 47 48 49]\n"
          ]
        }
      ]
    },
    {
      "cell_type": "markdown",
      "source": [
        "2. Create a 3X3 matrix with values ranging from 0 to 8.\n",
        "{Hint:look for np.reshape()}"
      ],
      "metadata": {
        "id": "sU4cnze6xRb-"
      }
    },
    {
      "cell_type": "code",
      "source": [
        "array_1D = np.arange(9)\n",
        "\n",
        "# Reshape it into a 3x3 matrix\n",
        "matrix_3x3 = array_1D.reshape(3, 3)\n",
        "\n",
        "print(matrix_3x3)"
      ],
      "metadata": {
        "colab": {
          "base_uri": "https://localhost:8080/"
        },
        "id": "3PrRcGSQxSuW",
        "outputId": "5b6db708-0cff-42b9-a4d7-0a6316754040"
      },
      "execution_count": null,
      "outputs": [
        {
          "output_type": "stream",
          "name": "stdout",
          "text": [
            "[[0 1 2]\n",
            " [3 4 5]\n",
            " [6 7 8]]\n"
          ]
        }
      ]
    },
    {
      "cell_type": "markdown",
      "source": [
        "3. Create a 3X3 identity matrix.{Hint:np.eye()}"
      ],
      "metadata": {
        "id": "VhcrWGvsxgl2"
      }
    },
    {
      "cell_type": "code",
      "source": [
        "identity_matrix = np.eye(3)\n",
        "\n",
        "print(identity_matrix)"
      ],
      "metadata": {
        "colab": {
          "base_uri": "https://localhost:8080/"
        },
        "id": "v57JES53xiK2",
        "outputId": "a8ad92c6-8ac9-418e-e106-a0c18849254b"
      },
      "execution_count": null,
      "outputs": [
        {
          "output_type": "stream",
          "name": "stdout",
          "text": [
            "[[1. 0. 0.]\n",
            " [0. 1. 0.]\n",
            " [0. 0. 1.]]\n"
          ]
        }
      ]
    },
    {
      "cell_type": "markdown",
      "source": [
        "4. Create a random array of size 30 and find the mean of the array.\n",
        "\n",
        "{Hint:check for np.random.random() and array.mean() function}"
      ],
      "metadata": {
        "id": "m_4VP7kDytin"
      }
    },
    {
      "cell_type": "code",
      "source": [
        "random_array = np.random.random(30)\n",
        "\n",
        "# Find the mean of the array\n",
        "mean_value = random_array.mean()\n",
        "\n",
        "print(\"Random Array:\", random_array)\n",
        "print(\"Mean of the Array:\", mean_value)"
      ],
      "metadata": {
        "colab": {
          "base_uri": "https://localhost:8080/"
        },
        "id": "fSiYqhucyu2n",
        "outputId": "152ab839-76b6-4b36-d6a9-133992552543"
      },
      "execution_count": null,
      "outputs": [
        {
          "output_type": "stream",
          "name": "stdout",
          "text": [
            "Random Array: [0.6070393  0.53381024 0.39459106 0.56820334 0.56616452 0.80967788\n",
            " 0.10337432 0.04545956 0.84745705 0.0587387  0.76514131 0.38560629\n",
            " 0.2132198  0.62392539 0.73337696 0.3933357  0.91038071 0.54778652\n",
            " 0.20761634 0.06682177 0.77472374 0.09573329 0.86088089 0.66402762\n",
            " 0.15286836 0.29072558 0.44230171 0.37927345 0.28478594 0.97957914]\n",
            "Mean of the Array: 0.4768875491092504\n"
          ]
        }
      ]
    },
    {
      "cell_type": "markdown",
      "source": [
        "5. Create a 10X10 array with random values and find the minimum and maximum values."
      ],
      "metadata": {
        "id": "LmwDgKQpyz6m"
      }
    },
    {
      "cell_type": "code",
      "source": [
        "random_array_10x10 = np.random.random((10, 10))\n",
        "\n",
        "# Find the minimum and maximum values\n",
        "min_value = random_array_10x10.min()\n",
        "max_value = random_array_10x10.max()\n",
        "\n",
        "print(\"Random 10x10 Array:\")\n",
        "print(random_array_10x10)\n",
        "print(\"Minimum Value:\", min_value)\n",
        "print(\"Maximum Value:\", max_value)"
      ],
      "metadata": {
        "colab": {
          "base_uri": "https://localhost:8080/"
        },
        "id": "NvFJi9ZDy1LH",
        "outputId": "f7cbc0f7-e155-4954-9261-3cdbde21e37e"
      },
      "execution_count": null,
      "outputs": [
        {
          "output_type": "stream",
          "name": "stdout",
          "text": [
            "Random 10x10 Array:\n",
            "[[0.75634967 0.36313737 0.51987563 0.93537425 0.21025813 0.66612503\n",
            "  0.72039572 0.60834174 0.5438648  0.39519584]\n",
            " [0.94244224 0.62261501 0.58421236 0.46131089 0.76116839 0.30513002\n",
            "  0.48098569 0.92660276 0.62380638 0.78679349]\n",
            " [0.2825149  0.78931198 0.85542323 0.87417045 0.49856884 0.984713\n",
            "  0.50987444 0.12150999 0.18941781 0.46806851]\n",
            " [0.47989264 0.91432182 0.93743375 0.72682088 0.95626752 0.12845855\n",
            "  0.04185061 0.43825872 0.65708565 0.00968363]\n",
            " [0.39307163 0.71580717 0.27015279 0.53788938 0.56035653 0.86542609\n",
            "  0.6053137  0.54384046 0.03301383 0.3735356 ]\n",
            " [0.48622264 0.58902566 0.97705024 0.71782187 0.76410195 0.63165302\n",
            "  0.75341611 0.16220766 0.31383265 0.04091852]\n",
            " [0.23133904 0.70756542 0.83064166 0.4750927  0.53866128 0.6949684\n",
            "  0.84556333 0.6442708  0.15804148 0.02724368]\n",
            " [0.20740551 0.61364881 0.69617052 0.11041845 0.2718544  0.99565368\n",
            "  0.12630804 0.31713191 0.35433585 0.7531539 ]\n",
            " [0.95613445 0.71126884 0.5533748  0.14558836 0.92870676 0.97603079\n",
            "  0.20632124 0.40804352 0.82698832 0.7626422 ]\n",
            " [0.13409162 0.83136937 0.1361742  0.63981212 0.67055373 0.14075827\n",
            "  0.20951848 0.37485421 0.0789649  0.59160235]]\n",
            "Minimum Value: 0.009683632245359508\n",
            "Maximum Value: 0.9956536829644472\n"
          ]
        }
      ]
    },
    {
      "cell_type": "markdown",
      "source": [
        "6. Create a zero array of size 10 and replace 5th element with 1."
      ],
      "metadata": {
        "id": "_GHLHe9Sy70v"
      }
    },
    {
      "cell_type": "code",
      "source": [
        "zero_array = np.zeros(10)\n",
        "\n",
        "# Replace the 5th element (index 4) with 1\n",
        "zero_array[4] = 1\n",
        "\n",
        "print(zero_array)"
      ],
      "metadata": {
        "colab": {
          "base_uri": "https://localhost:8080/"
        },
        "id": "fFsam_HRy9G_",
        "outputId": "19dbacc5-2763-4bb5-931e-9ca56c23a8d7"
      },
      "execution_count": null,
      "outputs": [
        {
          "output_type": "stream",
          "name": "stdout",
          "text": [
            "[0. 0. 0. 0. 1. 0. 0. 0. 0. 0.]\n"
          ]
        }
      ]
    },
    {
      "cell_type": "markdown",
      "source": [
        "7. Reverse an array arr = [1,2,0,0,4,0]."
      ],
      "metadata": {
        "id": "GsIfjzOczAlG"
      }
    },
    {
      "cell_type": "code",
      "source": [
        "arr = [1, 2, 0, 0, 4, 0]\n",
        "\n",
        "# Reverse the array\n",
        "reversed_array = arr[::-1]\n",
        "\n",
        "print(reversed_array)"
      ],
      "metadata": {
        "colab": {
          "base_uri": "https://localhost:8080/"
        },
        "id": "oDjtlqjmzA0e",
        "outputId": "cf32159a-a1df-48dc-e7a0-f21846de98a1"
      },
      "execution_count": null,
      "outputs": [
        {
          "output_type": "stream",
          "name": "stdout",
          "text": [
            "[0, 4, 0, 0, 2, 1]\n"
          ]
        }
      ]
    },
    {
      "cell_type": "markdown",
      "source": [
        "8. Create a 2d array with 1 on border and 0 inside."
      ],
      "metadata": {
        "id": "0_-9QS3IzDlG"
      }
    },
    {
      "cell_type": "code",
      "source": [
        "size = 5\n",
        "\n",
        "# Create a 2D array filled with zeros\n",
        "array = np.zeros((size, size))\n",
        "\n",
        "# Set the border to 1\n",
        "array[0, :] = 1  # Top border\n",
        "array[-1, :] = 1  # Bottom border\n",
        "array[:, 0] = 1  # Left border\n",
        "array[:, -1] = 1  # Right border\n",
        "\n",
        "print(array)"
      ],
      "metadata": {
        "colab": {
          "base_uri": "https://localhost:8080/"
        },
        "id": "JpnLds4AzEk-",
        "outputId": "3d32da2f-56c0-4990-ab14-b7805756284c"
      },
      "execution_count": null,
      "outputs": [
        {
          "output_type": "stream",
          "name": "stdout",
          "text": [
            "[[1. 1. 1. 1. 1.]\n",
            " [1. 0. 0. 0. 1.]\n",
            " [1. 0. 0. 0. 1.]\n",
            " [1. 0. 0. 0. 1.]\n",
            " [1. 1. 1. 1. 1.]]\n"
          ]
        }
      ]
    },
    {
      "cell_type": "markdown",
      "source": [
        "9. Create a 8X8 matrix and fill it with a checkerboard pattern."
      ],
      "metadata": {
        "id": "ZkjqdwQ5zJnG"
      }
    },
    {
      "cell_type": "code",
      "source": [
        "checkerboard = np.zeros((8, 8))\n",
        "\n",
        "# Fill the matrix with a checkerboard pattern (alternating 1s and 0s)\n",
        "checkerboard[1::2, ::2] = 1  # Fill odd rows with 1s at even columns\n",
        "checkerboard[::2, 1::2] = 1  # Fill even rows with 1s at odd columns\n",
        "\n",
        "print(checkerboard)"
      ],
      "metadata": {
        "colab": {
          "base_uri": "https://localhost:8080/"
        },
        "id": "wTxERjL7zKrm",
        "outputId": "6d8014cf-8d7b-42c1-decd-86854218c252"
      },
      "execution_count": null,
      "outputs": [
        {
          "output_type": "stream",
          "name": "stdout",
          "text": [
            "[[0. 1. 0. 1. 0. 1. 0. 1.]\n",
            " [1. 0. 1. 0. 1. 0. 1. 0.]\n",
            " [0. 1. 0. 1. 0. 1. 0. 1.]\n",
            " [1. 0. 1. 0. 1. 0. 1. 0.]\n",
            " [0. 1. 0. 1. 0. 1. 0. 1.]\n",
            " [1. 0. 1. 0. 1. 0. 1. 0.]\n",
            " [0. 1. 0. 1. 0. 1. 0. 1.]\n",
            " [1. 0. 1. 0. 1. 0. 1. 0.]]\n"
          ]
        }
      ]
    },
    {
      "cell_type": "markdown",
      "source": [
        "Problem - 3: Array Operations:\n",
        "\n",
        "For the following arrays:\n",
        "\n",
        "x = np.array([[1,2],[3,5]]) and y = np.array([[5,6],[7,8]]);\n",
        "\n",
        "v = np.array([9,10]) and w = np.array([11,12]);\n",
        "\n",
        "Complete all the task using numpy:\n",
        "1. Add the two array."
      ],
      "metadata": {
        "id": "2ajBxsrpzeIX"
      }
    },
    {
      "cell_type": "code",
      "source": [
        "x = np.array([[1, 2], [3, 5]])\n",
        "y = np.array([[5, 6], [7, 8]])\n",
        "\n",
        "# Add the two arrays\n",
        "sum_array = np.add(x, y)\n",
        "\n",
        "print(sum_array)"
      ],
      "metadata": {
        "colab": {
          "base_uri": "https://localhost:8080/"
        },
        "id": "SeEz9gUWzgv3",
        "outputId": "34afe767-fd61-4d60-99d9-32de4e33ce91"
      },
      "execution_count": null,
      "outputs": [
        {
          "output_type": "stream",
          "name": "stdout",
          "text": [
            "[[ 6  8]\n",
            " [10 13]]\n"
          ]
        }
      ]
    },
    {
      "cell_type": "markdown",
      "source": [
        "2. Subtract the two array."
      ],
      "metadata": {
        "id": "STVvseMVzkg-"
      }
    },
    {
      "cell_type": "code",
      "source": [
        "x = np.array([[1, 2], [3, 5]])\n",
        "y = np.array([[5, 6], [7, 8]])\n",
        "\n",
        "# Subtract the two arrays\n",
        "difference_array = np.subtract(x, y)\n",
        "\n",
        "print(difference_array)"
      ],
      "metadata": {
        "colab": {
          "base_uri": "https://localhost:8080/"
        },
        "id": "OZ5I9zuDzk3H",
        "outputId": "0b03cdea-9692-41dc-b6b9-c97ea2fed883"
      },
      "execution_count": null,
      "outputs": [
        {
          "output_type": "stream",
          "name": "stdout",
          "text": [
            "[[-4 -4]\n",
            " [-4 -3]]\n"
          ]
        }
      ]
    },
    {
      "cell_type": "markdown",
      "source": [
        "3. Multiply the array with any integers of your choice."
      ],
      "metadata": {
        "id": "Fg8Gv0CKzqUf"
      }
    },
    {
      "cell_type": "code",
      "source": [
        "x = np.array([[1, 2], [3, 5]])\n",
        "\n",
        "# Multiply the array by 3\n",
        "product_array = x * 3\n",
        "\n",
        "print(product_array)"
      ],
      "metadata": {
        "colab": {
          "base_uri": "https://localhost:8080/"
        },
        "id": "UcS8ecJQzrR_",
        "outputId": "887ee67d-edfa-4e88-d492-71aad939ea87"
      },
      "execution_count": null,
      "outputs": [
        {
          "output_type": "stream",
          "name": "stdout",
          "text": [
            "[[ 3  6]\n",
            " [ 9 15]]\n"
          ]
        }
      ]
    },
    {
      "cell_type": "markdown",
      "source": [
        "4. Find the square of each element of the array."
      ],
      "metadata": {
        "id": "7w7NHo3zzuIv"
      }
    },
    {
      "cell_type": "code",
      "source": [
        "x = np.array([[1, 2], [3, 5]])\n",
        "\n",
        "# Square each element of the array\n",
        "squared_array = np.square(x)\n",
        "\n",
        "print(squared_array)"
      ],
      "metadata": {
        "colab": {
          "base_uri": "https://localhost:8080/"
        },
        "id": "YO1bf32TzvZ1",
        "outputId": "32a75742-850d-4310-e881-f87598b0655a"
      },
      "execution_count": null,
      "outputs": [
        {
          "output_type": "stream",
          "name": "stdout",
          "text": [
            "[[ 1  4]\n",
            " [ 9 25]]\n"
          ]
        }
      ]
    },
    {
      "cell_type": "markdown",
      "source": [
        "5. Find the dot product between: v(and)w ; x(and)v ; x(and)y."
      ],
      "metadata": {
        "id": "tqIwj3d3zyfm"
      }
    },
    {
      "cell_type": "code",
      "source": [
        "x = np.array([[1, 2], [3, 5]])\n",
        "y = np.array([[5, 6], [7, 8]])\n",
        "v = np.array([9, 10])\n",
        "w = np.array([11, 12])\n",
        "\n",
        "# Dot product between v and w\n",
        "dot_vw = np.dot(v, w)\n",
        "\n",
        "# Dot product between x and v (matrix and vector)\n",
        "dot_xv = np.dot(x, v)\n",
        "\n",
        "# Dot product between x and y (matrix and matrix)\n",
        "dot_xy = np.dot(x, y)\n",
        "\n",
        "print(\"Dot product between v and w:\", dot_vw)\n",
        "print(\"Dot product between x and v:\", dot_xv)\n",
        "print(\"Dot product between x and y:\", dot_xy)"
      ],
      "metadata": {
        "colab": {
          "base_uri": "https://localhost:8080/"
        },
        "id": "yADe7dXnzzpe",
        "outputId": "bc506a8b-7826-4d15-c9f2-cd634027121b"
      },
      "execution_count": null,
      "outputs": [
        {
          "output_type": "stream",
          "name": "stdout",
          "text": [
            "Dot product between v and w: 219\n",
            "Dot product between x and v: [29 77]\n",
            "Dot product between x and y: [[19 22]\n",
            " [50 58]]\n"
          ]
        }
      ]
    },
    {
      "cell_type": "markdown",
      "source": [
        "6. Concatenate x(and)y along row and Concatenate v(and)w along column.\n",
        "\n",
        "{Hint:try np.concatenate() or np.vstack() functions."
      ],
      "metadata": {
        "id": "bhe-2vWxz78H"
      }
    },
    {
      "cell_type": "code",
      "source": [
        "x = np.array([[1, 2], [3, 5]])\n",
        "y = np.array([[5, 6], [7, 8]])\n",
        "v = np.array([9, 10])\n",
        "w = np.array([11, 12])\n",
        "\n",
        "# Concatenate x and y along rows (axis=0)\n",
        "concat_xy_rows = np.concatenate((x, y), axis=0)\n",
        "\n",
        "# Concatenate v and w along columns (first, reshape v and w to column vectors)\n",
        "v_reshaped = v.reshape(-1, 1)  # Reshape v to a column vector\n",
        "w_reshaped = w.reshape(-1, 1)  # Reshape w to a column vector\n",
        "concat_vw_columns = np.concatenate((v_reshaped, w_reshaped), axis=1)\n",
        "\n",
        "print(\"Concatenated x and y along rows:\")\n",
        "print(concat_xy_rows)\n",
        "\n",
        "print(\"\\nConcatenated v and w along columns:\")\n",
        "print(concat_vw_columns)"
      ],
      "metadata": {
        "colab": {
          "base_uri": "https://localhost:8080/"
        },
        "id": "OzG7H83Fz-kG",
        "outputId": "509775cf-5734-4062-a57c-dee130e6774f"
      },
      "execution_count": null,
      "outputs": [
        {
          "output_type": "stream",
          "name": "stdout",
          "text": [
            "Concatenated x and y along rows:\n",
            "[[1 2]\n",
            " [3 5]\n",
            " [5 6]\n",
            " [7 8]]\n",
            "\n",
            "Concatenated v and w along columns:\n",
            "[[ 9 11]\n",
            " [10 12]]\n"
          ]
        }
      ]
    },
    {
      "cell_type": "markdown",
      "source": [
        "7. Concatenate x(and)v; if you get an error, observe and explain why did you get the error?"
      ],
      "metadata": {
        "id": "F0hqSCvn0D6e"
      }
    },
    {
      "cell_type": "code",
      "source": [
        "x = np.array([[1, 2], [3, 5]])\n",
        "v = np.array([9, 10])\n",
        "\n",
        "# Attempt to concatenate x and v along rows\n",
        "try:\n",
        "    concat_xv_rows = np.concatenate((x, v), axis=0)  # This will raise an error\n",
        "except Exception as e:\n",
        "    print(\"Error during concatenation along rows:\", e)\n",
        "\n",
        "# Attempt to concatenate x and v along columns\n",
        "try:\n",
        "    concat_xv_columns = np.concatenate((x, v), axis=1)  # This will also raise an error\n",
        "except Exception as e:\n",
        "    print(\"Error during concatenation along columns:\", e)\n"
      ],
      "metadata": {
        "colab": {
          "base_uri": "https://localhost:8080/"
        },
        "id": "w_TEcAcz0FlW",
        "outputId": "6e27e5ca-06c5-4273-9425-82695a9ed319"
      },
      "execution_count": null,
      "outputs": [
        {
          "output_type": "stream",
          "name": "stdout",
          "text": [
            "Error during concatenation along rows: all the input arrays must have same number of dimensions, but the array at index 0 has 2 dimension(s) and the array at index 1 has 1 dimension(s)\n",
            "Error during concatenation along columns: all the input arrays must have same number of dimensions, but the array at index 0 has 2 dimension(s) and the array at index 1 has 1 dimension(s)\n"
          ]
        }
      ]
    },
    {
      "cell_type": "markdown",
      "source": [
        "When you try to concatenate them along rows (stack them vertically), v is just a single row (1D), and x has 2 rows, so they don't match in dimensions.\n",
        "\n",
        "When you try to concatenate them along columns (stack them horizontally), v is 1D and doesn't have the same number of rows as x, so they don’t align properly."
      ],
      "metadata": {
        "id": "F8ffGCA20YtG"
      }
    },
    {
      "cell_type": "markdown",
      "source": [
        "Problem - 4: Matrix Operations:\n",
        "\n",
        "• For the following arrays:\n",
        "\n",
        "A = np.array([[3,4],[7,8]]) and B = np.array([[5,3],[2,1]]);\n",
        "\n",
        "Prove following with Numpy:\n",
        "\n",
        "1. Prove A.A−1 = I."
      ],
      "metadata": {
        "id": "qFmFnNZQ0anO"
      }
    },
    {
      "cell_type": "code",
      "source": [
        "\n",
        "# Given matrix A\n",
        "A = np.array([[3, 4], [7, 8]])\n",
        "\n",
        "# Calculate the inverse of A\n",
        "A_inv = np.linalg.inv(A)\n",
        "\n",
        "# Multiply A by its inverse\n",
        "result = np.dot(A, A_inv)\n",
        "\n",
        "# Print the result (should be the identity matrix)\n",
        "print(\"A * A^-1 =\")\n",
        "print(result)\n",
        "\n",
        "# The identity matrix for comparison\n",
        "I = np.eye(2)\n",
        "print(\"\\nIdentity matrix I:\")\n",
        "print(I)\n"
      ],
      "metadata": {
        "colab": {
          "base_uri": "https://localhost:8080/"
        },
        "id": "pIqm-vid0dqf",
        "outputId": "1df9ca2d-7a2b-4670-dc81-89d0e582571b"
      },
      "execution_count": null,
      "outputs": [
        {
          "output_type": "stream",
          "name": "stdout",
          "text": [
            "A * A^-1 =\n",
            "[[1.00000000e+00 0.00000000e+00]\n",
            " [1.77635684e-15 1.00000000e+00]]\n",
            "\n",
            "Identity matrix I:\n",
            "[[1. 0.]\n",
            " [0. 1.]]\n"
          ]
        }
      ]
    },
    {
      "cell_type": "markdown",
      "source": [
        "2. Prove AB ̸= BA."
      ],
      "metadata": {
        "id": "CJ7SPSQE0pVe"
      }
    },
    {
      "cell_type": "code",
      "source": [
        "# Given matrices A and B\n",
        "A = np.array([[3, 4], [7, 8]])\n",
        "B = np.array([[5, 3], [2, 1]])\n",
        "\n",
        "# Calculate AB\n",
        "AB = np.dot(A, B)\n",
        "\n",
        "# Calculate BA\n",
        "BA = np.dot(B, A)\n",
        "\n",
        "# Print both results\n",
        "print(\"AB =\")\n",
        "print(AB)\n",
        "\n",
        "print(\"\\nBA =\")\n",
        "print(BA)\n",
        "\n",
        "# Check if AB is equal to BA\n",
        "if np.array_equal(AB, BA):\n",
        "    print(\"\\nAB equals BA.\")\n",
        "else:\n",
        "    print(\"\\nAB does not equal BA.\")"
      ],
      "metadata": {
        "colab": {
          "base_uri": "https://localhost:8080/"
        },
        "id": "T0YbCkQX0pvG",
        "outputId": "ee5f32ea-e82b-441f-be8d-5a365e84b5c5"
      },
      "execution_count": null,
      "outputs": [
        {
          "output_type": "stream",
          "name": "stdout",
          "text": [
            "AB =\n",
            "[[23 13]\n",
            " [51 29]]\n",
            "\n",
            "BA =\n",
            "[[36 44]\n",
            " [13 16]]\n",
            "\n",
            "AB does not equal BA.\n"
          ]
        }
      ]
    },
    {
      "cell_type": "markdown",
      "source": [
        "3. Prove (AB)\n",
        "\n",
        "T = BTAT"
      ],
      "metadata": {
        "id": "nj4e0vUx01pW"
      }
    },
    {
      "cell_type": "code",
      "source": [
        "# Given matrices A and B\n",
        "A = np.array([[3, 4], [7, 8]])\n",
        "B = np.array([[5, 3], [2, 1]])\n",
        "\n",
        "# Calculate (AB)^T\n",
        "AB_transpose = np.transpose(np.dot(A, B))\n",
        "\n",
        "# Calculate B^T A^T\n",
        "B_transpose = np.transpose(B)\n",
        "A_transpose = np.transpose(A)\n",
        "BT_AT = np.dot(B_transpose, A_transpose)\n",
        "\n",
        "# Print both results\n",
        "print(\"(AB)^T =\")\n",
        "print(AB_transpose)\n",
        "\n",
        "print(\"\\nB^T A^T =\")\n",
        "print(BT_AT)\n",
        "\n",
        "# Check if they are equal\n",
        "if np.array_equal(AB_transpose, BT_AT):\n",
        "    print(\"\\n(AB)^T equals B^T A^T.\")\n",
        "else:\n",
        "    print(\"\\n(AB)^T does not equal B^T A^T.\")"
      ],
      "metadata": {
        "colab": {
          "base_uri": "https://localhost:8080/"
        },
        "id": "eiwjxcAa02JW",
        "outputId": "d65f6b9f-903f-40f4-9f1c-3149011dd2fe"
      },
      "execution_count": null,
      "outputs": [
        {
          "output_type": "stream",
          "name": "stdout",
          "text": [
            "(AB)^T =\n",
            "[[23 51]\n",
            " [13 29]]\n",
            "\n",
            "B^T A^T =\n",
            "[[23 51]\n",
            " [13 29]]\n",
            "\n",
            "(AB)^T equals B^T A^T.\n"
          ]
        }
      ]
    },
    {
      "cell_type": "markdown",
      "source": [
        "• Solve the following system of Linear equation using Inverse Methods.\n",
        "\n",
        "2x − 3y + z = −1\n",
        "\n",
        "x − y + 2z = −3\n",
        "\n",
        "3x + y − z = 9\n",
        "\n",
        "{Hint: First use Numpy array to represent the equation in Matrix form. Then Solve for: AX = B}"
      ],
      "metadata": {
        "id": "eRwmUie50_t3"
      }
    },
    {
      "cell_type": "code",
      "source": [
        "# Coefficient matrix A\n",
        "A = np.array([[2, -3, 1],\n",
        "              [1, -1, 2],\n",
        "              [3, 1, -1]])\n",
        "\n",
        "# Constants matrix B\n",
        "B = np.array([-1, -3, 9])\n",
        "\n",
        "# Calculate the inverse of A\n",
        "A_inv = np.linalg.inv(A)\n",
        "\n",
        "# Solve for X using the formula X = A^-1 * B\n",
        "X = np.dot(A_inv, B)\n",
        "\n",
        "print(\"Solution (x, y, z):\")\n",
        "print(X)\n"
      ],
      "metadata": {
        "colab": {
          "base_uri": "https://localhost:8080/"
        },
        "id": "7p-MqBS71DnX",
        "outputId": "6181b974-73dc-46e8-b1f3-e80ff7adbb9e"
      },
      "execution_count": null,
      "outputs": [
        {
          "output_type": "stream",
          "name": "stdout",
          "text": [
            "Solution (x, y, z):\n",
            "[ 2.  1. -2.]\n"
          ]
        }
      ]
    },
    {
      "cell_type": "markdown",
      "source": [
        "Now: solve the above equation using np.linalg.inv function.\n",
        "\n",
        "{Explore more about ”linalg” function of Numpy}"
      ],
      "metadata": {
        "id": "2I3Dn1Ri1QmI"
      }
    },
    {
      "cell_type": "code",
      "source": [
        "# Coefficient matrix A\n",
        "A = np.array([[2, -3, 1],\n",
        "              [1, -1, 2],\n",
        "              [3, 1, -1]])\n",
        "\n",
        "# Constants matrix B\n",
        "B = np.array([-1, -3, 9])\n",
        "\n",
        "# Calculate the inverse of matrix A\n",
        "A_inv = np.linalg.inv(A)\n",
        "\n",
        "# Solve for X by multiplying the inverse of A with B\n",
        "X = np.dot(A_inv, B)\n",
        "\n",
        "# Print the solution for x, y, z\n",
        "print(\"Solution (x, y, z):\")\n",
        "print(X)\n"
      ],
      "metadata": {
        "colab": {
          "base_uri": "https://localhost:8080/"
        },
        "id": "3u-2u0Ag1U7v",
        "outputId": "51165d15-0e85-408c-81aa-e3d1769487ea"
      },
      "execution_count": null,
      "outputs": [
        {
          "output_type": "stream",
          "name": "stdout",
          "text": [
            "Solution (x, y, z):\n",
            "[ 2.  1. -2.]\n"
          ]
        }
      ]
    },
    {
      "cell_type": "markdown",
      "source": [
        "10.2 Experiment: How Fast is Numpy?\n",
        "\n",
        "In this exercise, you will compare the performance and implementation of operations using plain Python\n",
        "lists (arrays) and NumPy arrays.\n",
        "Follow the instructions:"
      ],
      "metadata": {
        "id": "-2JsZTFm10CO"
      }
    },
    {
      "cell_type": "markdown",
      "source": [
        "1. Element-wise Addition:\n",
        "• Using Python Lists, perform element-wise addition of two lists of size 1, 000, 000.\n",
        "\n",
        "  Measure and Print the time taken for this operation.\n",
        "\n"
      ],
      "metadata": {
        "id": "ZlDQDW2O13Wf"
      }
    },
    {
      "cell_type": "code",
      "source": [
        "import time\n",
        "\n",
        "# Create two lists of size 1,000,000\n",
        "list1 = [i for i in range(1000000)]\n",
        "list2 = [i for i in range(1000000, 2000000)]\n",
        "\n",
        "# Measure time for element-wise addition using Python Lists\n",
        "start_time = time.time()\n",
        "list_sum = [list1[i] + list2[i] for i in range(len(list1))]\n",
        "end_time = time.time()\n",
        "\n",
        "# Calculate and print the time taken\n",
        "list_time = end_time - start_time\n",
        "print(f\"Time taken for element-wise addition using Python Lists: {list_time:.6f} seconds\")\n"
      ],
      "metadata": {
        "colab": {
          "base_uri": "https://localhost:8080/"
        },
        "id": "0INEAh8O1--u",
        "outputId": "1568188b-b34b-44e6-c4b8-6af63c8e5915"
      },
      "execution_count": null,
      "outputs": [
        {
          "output_type": "stream",
          "name": "stdout",
          "text": [
            "Time taken for element-wise addition using Python Lists: 0.197296 seconds\n"
          ]
        }
      ]
    },
    {
      "cell_type": "markdown",
      "source": [
        "• Using Numpy Arrays, Repeat the calculation and measure and print the time taken for\n",
        "this operation."
      ],
      "metadata": {
        "id": "r3925kU22Nz_"
      }
    },
    {
      "cell_type": "code",
      "source": [
        "import time\n",
        "import numpy as np\n",
        "\n",
        "# Create two NumPy arrays of size 1,000,000\n",
        "array1 = np.arange(1000000)\n",
        "array2 = np.arange(1000000, 2000000)\n",
        "\n",
        "# Measure time for element-wise addition using NumPy Arrays\n",
        "start_time = time.time()\n",
        "array_sum = array1 + array2\n",
        "end_time = time.time()\n",
        "\n",
        "# Calculate and print the time taken\n",
        "numpy_time = end_time - start_time\n",
        "print(f\"Time taken for element-wise addition using NumPy Arrays: {numpy_time:.6f} seconds\")\n"
      ],
      "metadata": {
        "colab": {
          "base_uri": "https://localhost:8080/"
        },
        "id": "eE7prXVZ2OJe",
        "outputId": "96febc97-740e-4109-a254-d4e32509fc28"
      },
      "execution_count": null,
      "outputs": [
        {
          "output_type": "stream",
          "name": "stdout",
          "text": [
            "Time taken for element-wise addition using NumPy Arrays: 0.007199 seconds\n"
          ]
        }
      ]
    },
    {
      "cell_type": "markdown",
      "source": [
        "2. Element-wise Multiplication\n",
        "\n",
        "• Using Python Lists, perform element-wise multiplication of two lists of size 1, 000, 000.\n",
        "Measure and Print the time taken for this operation."
      ],
      "metadata": {
        "id": "1n8LHfTd2RQH"
      }
    },
    {
      "cell_type": "code",
      "source": [
        "import time\n",
        "\n",
        "# Create two lists of size 1,000,000\n",
        "list1 = [i for i in range(1000000)]\n",
        "list2 = [i for i in range(1000000, 2000000)]\n",
        "\n",
        "# Measure time for element-wise multiplication using Python Lists\n",
        "start_time = time.time()\n",
        "list_product = [list1[i] * list2[i] for i in range(len(list1))]\n",
        "end_time = time.time()\n",
        "\n",
        "# Calculate and print the time taken\n",
        "list_time = end_time - start_time\n",
        "print(f\"Time taken for element-wise multiplication using Python Lists: {list_time:.6f} seconds\")\n"
      ],
      "metadata": {
        "colab": {
          "base_uri": "https://localhost:8080/"
        },
        "id": "lBMkO2JL2UFG",
        "outputId": "93637f21-d49f-4e61-b314-1f36dbbfe387"
      },
      "execution_count": null,
      "outputs": [
        {
          "output_type": "stream",
          "name": "stdout",
          "text": [
            "Time taken for element-wise multiplication using Python Lists: 0.174633 seconds\n"
          ]
        }
      ]
    },
    {
      "cell_type": "markdown",
      "source": [
        "• Using Numpy Arrays, Repeat the calculation and measure and print the time taken for\n",
        "this operation."
      ],
      "metadata": {
        "id": "XvLTOEGx2bC3"
      }
    },
    {
      "cell_type": "code",
      "source": [
        "import time\n",
        "import numpy as np\n",
        "\n",
        "# Create two NumPy arrays of size 1,000,000\n",
        "array1 = np.arange(1000000)\n",
        "array2 = np.arange(1000000, 2000000)\n",
        "\n",
        "# Measure time for element-wise multiplication using NumPy Arrays\n",
        "start_time = time.time()\n",
        "array_product = array1 * array2\n",
        "end_time = time.time()\n",
        "\n",
        "# Calculate and print the time taken\n",
        "numpy_time = end_time - start_time\n",
        "print(f\"Time taken for element-wise multiplication using NumPy Arrays: {numpy_time:.6f} seconds\")\n"
      ],
      "metadata": {
        "colab": {
          "base_uri": "https://localhost:8080/"
        },
        "id": "gARxaf4G2bif",
        "outputId": "0ce2b91c-e1e8-4232-adf0-5177440c53bb"
      },
      "execution_count": null,
      "outputs": [
        {
          "output_type": "stream",
          "name": "stdout",
          "text": [
            "Time taken for element-wise multiplication using NumPy Arrays: 0.003664 seconds\n"
          ]
        }
      ]
    },
    {
      "cell_type": "markdown",
      "source": [
        "3. Dot Product\n",
        "\n",
        "• Using Python Lists, compute the dot product of two lists of size 1, 000, 000. Measure and\n",
        "Print the time taken for this operation."
      ],
      "metadata": {
        "id": "q9TTB2kP2dof"
      }
    },
    {
      "cell_type": "code",
      "source": [
        "import time\n",
        "\n",
        "# Create two lists of size 1,000,000\n",
        "list1 = [i for i in range(1000000)]\n",
        "list2 = [i for i in range(1000000, 2000000)]\n",
        "\n",
        "# Measure time for dot product calculation using Python Lists\n",
        "start_time = time.time()\n",
        "\n",
        "# Dot product calculation using list comprehension\n",
        "dot_product = sum(list1[i] * list2[i] for i in range(len(list1)))\n",
        "\n",
        "end_time = time.time()\n",
        "\n",
        "# Calculate and print the time taken\n",
        "list_time = end_time - start_time\n",
        "print(f\"Time taken for dot product using Python Lists: {list_time:.6f} seconds\")\n"
      ],
      "metadata": {
        "colab": {
          "base_uri": "https://localhost:8080/"
        },
        "id": "BVBWvKtX2g8e",
        "outputId": "8ea4ffa2-3bd4-4357-e36d-c76d12ab75f5"
      },
      "execution_count": null,
      "outputs": [
        {
          "output_type": "stream",
          "name": "stdout",
          "text": [
            "Time taken for dot product using Python Lists: 0.097905 seconds\n"
          ]
        }
      ]
    },
    {
      "cell_type": "markdown",
      "source": [
        "• Using Numpy Arrays, Repeat the calculation and measure and print the time taken for\n",
        "this operation."
      ],
      "metadata": {
        "id": "h5IugegL2iIG"
      }
    },
    {
      "cell_type": "code",
      "source": [
        "import time\n",
        "import numpy as np\n",
        "\n",
        "# Create two NumPy arrays of size 1,000,000\n",
        "array1 = np.arange(1000000)\n",
        "array2 = np.arange(1000000, 2000000)\n",
        "\n",
        "# Measure time for dot product calculation using NumPy Arrays\n",
        "start_time = time.time()\n",
        "\n",
        "# Dot product calculation using NumPy's optimized dot function\n",
        "dot_product = np.dot(array1, array2)\n",
        "\n",
        "end_time = time.time()\n",
        "\n",
        "# Calculate and print the time taken\n",
        "numpy_time = end_time - start_time\n",
        "print(f\"Time taken for dot product using NumPy Arrays: {numpy_time:.6f} seconds\")\n"
      ],
      "metadata": {
        "colab": {
          "base_uri": "https://localhost:8080/"
        },
        "id": "5GhPnEah2iuB",
        "outputId": "1ca37ede-7c7b-420f-add5-c5c88b72defb"
      },
      "execution_count": null,
      "outputs": [
        {
          "output_type": "stream",
          "name": "stdout",
          "text": [
            "Time taken for dot product using NumPy Arrays: 0.001749 seconds\n"
          ]
        }
      ]
    },
    {
      "cell_type": "markdown",
      "source": [
        "4. Matrix Multiplication\n",
        "\n",
        "• Using Python lists, perform matrix multiplication of two matrices of size 1000x1000. Mea-\n",
        "sure and print the time taken for this operation."
      ],
      "metadata": {
        "id": "Yj8pHGHZ2onm"
      }
    },
    {
      "cell_type": "code",
      "source": [
        "import time\n",
        "\n",
        "# Create two matrices of size 1000x1000\n",
        "matrix1 = [[i + j for j in range(1000)] for i in range(1000)]\n",
        "matrix2 = [[i - j for j in range(1000)] for i in range(1000)]\n",
        "\n",
        "# Measure time for matrix multiplication using Python Lists\n",
        "start_time = time.time()\n",
        "\n",
        "# Matrix multiplication using nested loops\n",
        "result_matrix = [[sum(matrix1[i][k] * matrix2[k][j] for k in range(1000)) for j in range(1000)] for i in range(1000)]\n",
        "\n",
        "end_time = time.time()\n",
        "\n",
        "# Calculate and print the time taken\n",
        "list_time = end_time - start_time\n",
        "print(f\"Time taken for matrix multiplication using Python Lists: {list_time:.6f} seconds\")\n"
      ],
      "metadata": {
        "id": "wEczgv3u2qAH"
      },
      "execution_count": null,
      "outputs": []
    },
    {
      "cell_type": "markdown",
      "source": [
        "• Using NumPy arrays, perform matrix multiplication of two matrices of size 1000x1000.\n",
        "Measure and print the time taken for this operation."
      ],
      "metadata": {
        "id": "7Gbh9mwh2qU-"
      }
    },
    {
      "cell_type": "code",
      "source": [
        "import time\n",
        "import numpy as np\n",
        "\n",
        "# Create two NumPy arrays of size 1000x1000\n",
        "matrix1 = np.random.rand(1000, 1000)\n",
        "matrix2 = np.random.rand(1000, 1000)\n",
        "\n",
        "# Measure time for matrix multiplication using NumPy\n",
        "start_time = time.time()\n",
        "\n",
        "# Matrix multiplication using NumPy's dot function\n",
        "result_matrix = np.dot(matrix1, matrix2)\n",
        "\n",
        "# Alternatively, you can use the @ operator as well\n",
        "# result_matrix = matrix1 @ matrix2\n",
        "\n",
        "end_time = time.time()\n",
        "\n",
        "# Calculate and print the time taken\n",
        "numpy_time = end_time - start_time\n",
        "print(f\"Time taken for matrix multiplication using NumPy: {numpy_time:.6f} seconds\")\n"
      ],
      "metadata": {
        "id": "tFQ9phql2tIw"
      },
      "execution_count": null,
      "outputs": []
    }
  ]
}