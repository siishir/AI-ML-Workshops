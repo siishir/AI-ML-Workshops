{
  "cells": [
    {
      "cell_type": "markdown",
      "metadata": {
        "id": "IY-_Zy_b71lD"
      },
      "source": [
        "# Implementation of MCP Neuron for AND and OR Function."
      ]
    },
    {
      "cell_type": "code",
      "execution_count": 5,
      "metadata": {
        "id": "Fu-YDOe_8GJi"
      },
      "outputs": [],
      "source": [
        "def MCP_Neurons_AND(X1, X2, T):\n",
        "  \"\"\"\n",
        "  This functions implements basic AND operations with MCP Neuron for two inputs.\n",
        "  Arguments:\n",
        "  Inputs:\n",
        "  X1 (1 nd array): An array of binary values.\n",
        "  X2 (1 nd array): An array of binary values.\n",
        "  Output:\n",
        "  state_neuron(1D-list): An state of neuron 1 0r 0 for the particular inputs.\n",
        "  \"\"\"\n",
        "  assert len(X1) == len(X2)\n",
        "  ### YOUR CODE HERE ###\n",
        "  # Perform an element wise addition of two input arrays stored in a new array(list):\n",
        "  # Create a new array to put all the prediction let's name that a state_neuron.\n",
        "  # Append 1 in sate_neuron if sum (element) of above list is above Threshold else append 0.\n",
        "  # Perform element-wise addition and store in a new list\n",
        "  element_wise_sum = [x1 + x2 for x1, x2 in zip(X1, X2)]\n",
        "\n",
        "  # Create a new list to store neuron states\n",
        "  state_neuron = []\n",
        "\n",
        "  # Append 1 if sum is above threshold, otherwise append 0\n",
        "  for element_sum in element_wise_sum:\n",
        "    if element_sum >= T:\n",
        "      state_neuron.append(1)\n",
        "    else:\n",
        "      state_neuron.append(0)\n",
        "  return state_neuron"
      ]
    },
    {
      "cell_type": "code",
      "execution_count": 6,
      "metadata": {
        "colab": {
          "base_uri": "https://localhost:8080/"
        },
        "id": "e2-lKfat8ocN",
        "outputId": "e3af9b73-7a0b-4d12-e1f2-65c33d7bbcca"
      },
      "outputs": [
        {
          "name": "stdout",
          "output_type": "stream",
          "text": [
            "Output of AND gate for inputs [0, 0, 1, 1] and [0, 1, 0, 1] with threshold 2: [0, 0, 0, 1]\n"
          ]
        }
      ],
      "source": [
        "# Example usage for MCP_Neurons_AND function\n",
        "X1 = [0, 0, 1, 1]\n",
        "X2 = [0, 1, 0, 1]\n",
        "T = 2  # Threshold value\n",
        "\n",
        "# Call the MCP_Neurons_AND function\n",
        "result = MCP_Neurons_AND(X1, X2, T)\n",
        "\n",
        "# Print the result\n",
        "print(f\"Output of AND gate for inputs {X1} and {X2} with threshold {T}: {result}\")\n"
      ]
    },
    {
      "cell_type": "code",
      "execution_count": 7,
      "metadata": {
        "id": "7xaMXlLT9FHC"
      },
      "outputs": [],
      "source": [
        "def MCP_Neurons_OR(X1, X2, T):\n",
        "    \"\"\"\n",
        "    This function implements basic OR operations with MCP Neuron for two inputs.\n",
        "    Arguments:\n",
        "    Inputs:\n",
        "    X1 (1D array): An array of binary values.\n",
        "    X2 (1D array): An array of binary values.\n",
        "    Output:\n",
        "    state_neuron (1D list): The state of the neuron (1 or 0) for the particular inputs.\n",
        "    \"\"\"\n",
        "    assert len(X1) == len(X2)\n",
        "    ### YOUR CODE HERE ###\n",
        "    # Perform an element wise addition of two input arrays stored in a new array(list):\n",
        "    # Create a new array to put all the prediction let's name that a state_neuron.\n",
        "    # Append 1 in sate_neuron if sum (element) of above list is above Threshold else append 0.\n",
        "\n",
        "    element_wise_sum = [x1 + x2 for x1, x2 in zip(X1, X2)]\n",
        "\n",
        "    state_neuron = []\n",
        "\n",
        "    for element_sum in element_wise_sum:\n",
        "        if element_sum >= T:\n",
        "            state_neuron.append(1)\n",
        "        else:\n",
        "            state_neuron.append(0)\n",
        "\n",
        "\n",
        "\n",
        "\n",
        "    return state_neuron\n"
      ]
    },
    {
      "cell_type": "code",
      "execution_count": 8,
      "metadata": {
        "colab": {
          "base_uri": "https://localhost:8080/"
        },
        "id": "6H-YOy268_Jo",
        "outputId": "238dabe8-b3eb-4910-d9ca-f4aa8fa7198f"
      },
      "outputs": [
        {
          "name": "stdout",
          "output_type": "stream",
          "text": [
            "Output of OR gate for inputs [0, 0, 1, 1] and [0, 1, 0, 1] with threshold 1: [0, 1, 1, 1]\n"
          ]
        }
      ],
      "source": [
        "# Example usage for MCP_Neurons_OR function\n",
        "X1 = [0, 0, 1, 1]\n",
        "X2 = [0, 1, 0, 1]\n",
        "T = 1  # Threshold value for OR gate\n",
        "\n",
        "# Call the MCP_Neurons_OR function\n",
        "result_or = MCP_Neurons_OR(X1, X2, T)\n",
        "\n",
        "# Print the result\n",
        "print(f\"Output of OR gate for inputs {X1} and {X2} with threshold {T}: {result_or}\")\n"
      ]
    },
    {
      "cell_type": "markdown",
      "metadata": {
        "id": "FXfiVhIJ-YFY"
      },
      "source": [
        "• Question - 1: List out all the limitations of MCP - Neurons.\n",
        "\n"
      ]
    },
    {
      "cell_type": "markdown",
      "metadata": {
        "id": "D3aCqX6Z-b9A"
      },
      "source": [
        "1. Unable to Learn\n",
        "MCP neurons have fixed weights and thresholds and cannot learn from data or learn from experience and update weights.\n",
        "They require hand tuning of weights and are therefore not practical for real-world applications.\n",
        "2. Only Linearly Separable Problems\n",
        "MCP neurons only work for linearly separable problems (like AND, OR gates).\n",
        "They are unable to solve non-linearly separable problems (e.g., XOR problem), and this necessitated the creation of more sophisticated models like Perceptrons and Multi-Layer Neural Networks.\n",
        "3. Binary Output Limitation\n",
        "The model uses a step activation function, i.e., the output is 0 or 1.\n",
        "It is not able to handle continuous values, and this limits its applicability in real-world problems that include probability estimation.\n",
        "4. No Support for Multi-Layer Networks\n",
        "MCP neurons are single-layered and cannot be used to develop deep networks.\n",
        "They lack the feature extraction ability for intricate hierarchical features, different from modern deep learning algorithms.\n",
        "5. No Weight Adjustment Concept (Gradient Descent)\n",
        "There is no backpropagation or use of gradient descent to update weights in MCP.\n",
        "This diminishes its ability to learn and generalize from training data.\n",
        "6. No Time Dependence (No Memory)\n",
        "The model is not concerned with temporal dependencies and thus not suitable for sequential data (e.g., speech, time-series prediction).\n",
        "It lacks memory process as in Recurrent Neural Networks (RNNs)."
      ]
    },
    {
      "cell_type": "markdown",
      "metadata": {
        "id": "Sqj8vQlG-bGG"
      },
      "source": [
        "• Question - 2: Think if you can develop a logic to solve for XOR function using MCP Neuron.\n",
        "{Can you devise a if else rules.}"
      ]
    },
    {
      "cell_type": "markdown",
      "metadata": {
        "id": "oChtVZ5e_Ki1"
      },
      "source": [
        "We can't because method is not linearly separable. But we can build logic with if else. Here logic consiste of"
      ]
    },
    {
      "cell_type": "code",
      "execution_count": 21,
      "metadata": {
        "colab": {
          "base_uri": "https://localhost:8080/"
        },
        "id": "EHlrNxvE_jZ4",
        "outputId": "5a499850-9e68-48aa-de8f-db1157c01556"
      },
      "outputs": [
        {
          "name": "stdout",
          "output_type": "stream",
          "text": [
            "0\n",
            "1\n",
            "1\n",
            "0\n"
          ]
        }
      ],
      "source": [
        "def mcp_xor(x1, x2):\n",
        "    if (x1 == 1 and x2 == 0) or (x1 == 0 and x2 == 1):\n",
        "        return 1  # XOR condition satisfied\n",
        "    else:\n",
        "        return 0  # Otherwise, return 0\n",
        "\n",
        "# Test cases\n",
        "print(mcp_xor(0, 0))  # Output: 0\n",
        "print(mcp_xor(0, 1))  # Output: 1\n",
        "print(mcp_xor(1, 0))  # Output: 1\n",
        "print(mcp_xor(1, 1))  # Output: 0"
      ]
    },
    {
      "cell_type": "markdown",
      "metadata": {
        "id": "Udsr86Dj_oXJ"
      },
      "source": [
        "Here the output is correctly calculating the output for logical XOR gate."
      ]
    },
    {
      "cell_type": "markdown",
      "metadata": {
        "id": "Apa9bfLIFJHe"
      },
      "source": [
        "# Implementation for 0 Vs. 1 Classification."
      ]
    },
    {
      "cell_type": "markdown",
      "metadata": {
        "id": "iom83mGLFP_1"
      },
      "source": [
        "## Step 1: Load the Dataset"
      ]
    },
    {
      "cell_type": "code",
      "execution_count": 9,
      "metadata": {
        "colab": {
          "base_uri": "https://localhost:8080/"
        },
        "id": "BUhQJizb8LVZ",
        "outputId": "e934bc86-0ae9-4be9-9e72-654603000864"
      },
      "outputs": [
        {
          "name": "stdout",
          "output_type": "stream",
          "text": [
            "Mounted at /content/drive\n"
          ]
        }
      ],
      "source": [
        "from google.colab import drive\n",
        "drive.mount('/content/drive')"
      ]
    },
    {
      "cell_type": "code",
      "execution_count": null,
      "metadata": {
        "colab": {
          "base_uri": "https://localhost:8080/"
        },
        "id": "7rkW58ct9IYq",
        "outputId": "e992605a-d732-4bc6-8862-e8e9406470c1"
      },
      "outputs": [
        {
          "name": "stdout",
          "output_type": "stream",
          "text": [
            "Feature matrix shape: (12665, 784)\n",
            "Label vector shape: (12665,)\n"
          ]
        }
      ],
      "source": [
        "import pandas as pd\n",
        "import numpy as np\n",
        "import matplotlib.pyplot as plt\n",
        "\n",
        "\n",
        "# Load the dataset\n",
        "dataset_1 = pd.read_csv(\"/content/drive/MyDrive/AI ML/Week 3/mnist_0_and_1.csv\")  # Add the correct file path if necessary\n",
        "\n",
        "# Extract features and labels\n",
        "X = dataset_1.drop(columns=[\"label\"]).values  # 784 pixels\n",
        "y = dataset_1[\"label\"].values  # Labels (0 or 1)\n",
        "\n",
        "# Check the shape of the features and labels\n",
        "print(\"Feature matrix shape:\", X.shape)\n",
        "print(\"Label vector shape:\", y.shape)\n"
      ]
    },
    {
      "cell_type": "markdown",
      "metadata": {
        "id": "OEQUG68nABqS"
      },
      "source": [
        "What does the shape of X represent?"
      ]
    },
    {
      "cell_type": "markdown",
      "metadata": {
        "id": "NIpDksLvACQO"
      },
      "source": [
        "Shape of X during row represent the single image of total 784 and for columns it represent single pixel location for all images"
      ]
    },
    {
      "cell_type": "markdown",
      "metadata": {
        "id": "jlq0EY2jHheD"
      },
      "source": [
        "### Viewing the Dataset."
      ]
    },
    {
      "cell_type": "code",
      "execution_count": 12,
      "metadata": {
        "colab": {
          "base_uri": "https://localhost:8080/",
          "height": 375
        },
        "id": "XKY2qjhCHAZ7",
        "outputId": "4932b5c3-ce1a-43dc-eb16-2db126e74e48"
      },
      "outputs": [
        {
          "data": {
            "image/png": "[encoded data removed]",
            "text/plain": [
              "<Figure size 1000x500 with 10 Axes>"
            ]
          },
          "metadata": {},
          "output_type": "display_data"
        }
      ],
      "source": [
        "# Separate images for label 0 and label 1\n",
        "images_0 = X[y == 0]  # Get all images with label 0\n",
        "images_1 = X[y == 1]  # Get all images with label 1\n",
        "\n",
        "fig, axes = plt.subplots(2, 5, figsize=(10, 5))\n",
        "\n",
        "# Check if the arrays have the required amount of data\n",
        "if len(images_0) < 5 or len(images_1) < 5:\n",
        "    print(\"Error: Not enough images in images_0 or images_1 to plot 5 images.\")\n",
        "else:\n",
        "    for i in range(5):\n",
        "        # Plot digit 0\n",
        "        axes[0, i].imshow(images_0[i].reshape(28, 28), cmap=\"gray\")\n",
        "        axes[0, i].set_title(\"Label: 0\")\n",
        "        axes[0, i].axis(\"off\")\n",
        "        # Plot digit 1\n",
        "        axes[1, i].imshow(images_1[i].reshape(28, 28), cmap=\"gray\")\n",
        "        axes[1, i].set_title(\"Label: 1\")\n",
        "        axes[1, i].axis(\"off\")\n",
        "    plt.suptitle(\"First 5 Images of 0 and 1 from MNIST Subset\")\n",
        "    plt.show()"
      ]
    },
    {
      "cell_type": "markdown",
      "metadata": {
        "id": "qyM34tbHIqGi"
      },
      "source": [
        "## Step - 2 - Initializing the Weights:"
      ]
    },
    {
      "cell_type": "code",
      "execution_count": 22,
      "metadata": {
        "id": "SMsXaZ38HfBI"
      },
      "outputs": [],
      "source": [
        "# Initialize weights and bias\n",
        "weights = np.zeros(X.shape[1])  # 784 weights (one for each pixel)\n",
        "bias = 0\n",
        "learning_rate = 0.1\n",
        "epochs = 100"
      ]
    },
    {
      "cell_type": "markdown",
      "metadata": {
        "id": "jp9G5MXgAsEq"
      },
      "source": [
        "What does the weights array represent in this context?"
      ]
    },
    {
      "cell_type": "markdown",
      "metadata": {
        "id": "aKSzxfpYAzN0"
      },
      "source": [
        "The array of weights is the priority of every pixel in determining whether the image is a \"0\" or a \"1.\"\n",
        "\n",
        "Since we have 784 pixels in each image, we start 784 weights, one for each pixel.\n",
        "These weights will be optimized in training to minimize classification mistakes.\n",
        "The learned final weights will dictate the extent of each pixel's impact on the decision boundary for image classification."
      ]
    },
    {
      "cell_type": "markdown",
      "metadata": {
        "id": "un5wrGhrAyeO"
      },
      "source": [
        "Why are we initializing the weights to zero? What effect could this\n",
        "have on the training process?"
      ]
    },
    {
      "cell_type": "markdown",
      "metadata": {
        "id": "jsSkf82jA-Oz"
      },
      "source": [
        "Zero initialization of weights is a simple technique, setting all weights at the same initial point. The argument is:\n",
        "\n",
        "It gives gradient descent a fair start.\n",
        "It doesn't bias towards any pixel in the beginning.\n",
        "It isn't suitable for general models like logistic regression. But it causes trouble in neural networks:\n",
        "\n",
        "Symmetry Problem\n",
        "\n",
        "If all the weights start at 0, all the neurons of a layer get updated equally in backpropagation.\n",
        "This prevents the network from learning varied and informative features and makes all the neurons redundant.\n",
        "\n",
        "Slow Convergence\n",
        "\n",
        "If all the weights are 0, all the gradients are the same, which means slow updates.\n",
        "The model can fail to learn the best weights efficiently."
      ]
    },
    {
      "cell_type": "markdown",
      "metadata": {
        "id": "EvraDxaeRVeo"
      },
      "source": [
        "## Step - 3 - Make a Decision function:"
      ]
    },
    {
      "cell_type": "code",
      "execution_count": 15,
      "metadata": {
        "id": "6uVj75txLWQi"
      },
      "outputs": [],
      "source": [
        "import numpy as np\n",
        "\n",
        "def decision_function(X, weights, bias):\n",
        "    \"\"\"\n",
        "    Compute the predicted labels for the input data.\n",
        "\n",
        "    Parameters:\n",
        "    - X: Features (input data) as a numpy array of shape (n_samples, n_features)\n",
        "    - weights: Updated weights after training\n",
        "    - bias: Updated bias after training\n",
        "\n",
        "    Returns:\n",
        "    - y_pred_all: The predicted labels for the input data\n",
        "    \"\"\"\n",
        "    predictions = np.dot(X, weights) + bias\n",
        "    #####Your Code Here############  # Activation function (step function)\n",
        "    y_pred_all = np.where(predictions >= 0, 1, 0)\n",
        "    return y_pred_all"
      ]
    },
    {
      "cell_type": "markdown",
      "metadata": {
        "id": "AVZNGyRdI4I4"
      },
      "source": [
        "## Step - 3 - Implement the Perceptron Learning Algorithm"
      ]
    },
    {
      "cell_type": "code",
      "execution_count": 17,
      "metadata": {
        "id": "Dg1ocrycJWpA"
      },
      "outputs": [],
      "source": [
        "def train_perceptron(X, y, weights, bias, learning_rate=0.1, epochs=100):\n",
        "    \"\"\"\n",
        "    Train the perceptron using the Perceptron Learning Algorithm.\n",
        "\n",
        "    Parameters:\n",
        "    - X: Features (input data) as a numpy array of shape (n_samples, n_features)\n",
        "    - y: Labels (true output) as a numpy array of shape (n_samples,)\n",
        "    - weights: Initial weights as a numpy array of shape (n_features,)\n",
        "    - bias: Initial bias value (scalar)\n",
        "    - learning_rate: Learning rate for weight updates (default is 0.1)\n",
        "    - epochs: Number of iterations to train the model (default is 100)\n",
        "\n",
        "    Returns:\n",
        "    - weights: Updated weights after training\n",
        "    - bias: Updated bias after training\n",
        "    - accuracy: Total correct prediction.\n",
        "    \"\"\"\n",
        "    # Step 3: Perceptron Learning Algorithm\n",
        "    # Your Code here#\n",
        "    for epoch in range(epochs):\n",
        "        for i in range(len(X)):\n",
        "          prediction = decision_function(X[i], weights, bias)\n",
        "          if y[i] - prediction != 0:\n",
        "            weights += learning_rate * (y[i] - prediction) * X[i]\n",
        "            bias += learning_rate * (y[i] - prediction)\n",
        "\n",
        "    # Step 4: Calculate accuracy\n",
        "    y_pred_all = decision_function(X, weights, bias)\n",
        "    accuracy = np.mean(y_pred_all == y)\n",
        "\n",
        "    return weights, bias, accuracy"
      ]
    },
    {
      "cell_type": "markdown",
      "metadata": {
        "id": "U0yWOROABeED"
      },
      "source": [
        "What is the purpose of the output = np.dot(X[i], weights) + bias line?\n",
        "\n"
      ]
    },
    {
      "cell_type": "markdown",
      "metadata": {
        "id": "orCu2wbkBk6u"
      },
      "source": [
        "This establishes the raw activation value before using the step function (decision function).\n",
        "The output is finally passed on through a threshold function (say, step function) to obtain a binary prediction (0 or 1)."
      ]
    },
    {
      "cell_type": "markdown",
      "metadata": {
        "id": "QfeZn0mQBjNX"
      },
      "source": [
        "\n",
        "  What happens when the prediction is wrong? How are the weights and\n",
        "bias updated?\n"
      ]
    },
    {
      "cell_type": "markdown",
      "metadata": {
        "id": "dqQTt4LdByQW"
      },
      "source": [
        "If the prediction is incorrect, the Perceptron Learning Rule updates the weights and bias to reduce future errors.\n",
        "\n",
        "When error we utilize the condition,\n",
        "if y[i] - prediction!= 0:\n",
        "        weights += learning_rate * (y[i] - prediction) * X[i]\n",
        "        bias += learning_rate * (y[i] - prediction)\n",
        "\n",
        "If the prediction is too low (0 instead of 1), the update increases weights for relevant pixels.\n",
        "\n",
        "If the prediction is too high (1 instead of 0), the update decreases weights for relevant pixels.\n",
        "\n",
        "This continues until the model classifies most samples correctly or reaches max epochs."
      ]
    },
    {
      "cell_type": "markdown",
      "metadata": {
        "id": "HquUSZ0sBkI_"
      },
      "source": [
        "Why is the final accuracy important, and what do you expect it to be?"
      ]
    },
    {
      "cell_type": "markdown",
      "metadata": {
        "id": "6ewWjGeLCDbd"
      },
      "source": [
        "It is an estimate of how well the model has learned to accurately classify images.\n",
        "High accuracy suggests that the model can generalize well to novel, unseen data.\n",
        "\n",
        "Low accuracy suggests:\n",
        "The model isn't learning (possibly because the data or the learning rate is bad).\n",
        "The data are linearly inseparable (say, XOR), and a Perceptron cannot handle it.\n",
        "Expected Accuracy for MNIST (0 vs. 1 Classification)\n",
        "\n",
        "Since the numbers 0 and 1 are linearly separable, the Perceptron will come close to achieving 100% accuracy if properly trained.\n"
      ]
    },
    {
      "cell_type": "markdown",
      "metadata": {
        "id": "Va6AGI6iMAG9"
      },
      "source": [
        "## Training the Perceptron"
      ]
    },
    {
      "cell_type": "code",
      "execution_count": 18,
      "metadata": {
        "colab": {
          "base_uri": "https://localhost:8080/"
        },
        "id": "cn8XBYuZLswI",
        "outputId": "ce973181-12f6-4403-f99f-5983fe8c85ce"
      },
      "outputs": [
        {
          "name": "stdout",
          "output_type": "stream",
          "text": [
            "The Final Accuracy is:  1.0\n"
          ]
        }
      ],
      "source": [
        "# After training the model with the perceptron_learning_algorithm\n",
        "weights, bias, accuracy = train_perceptron(X, y, weights, bias)\n",
        "\n",
        "# Evaluate the model using the new function\n",
        "print(\"The Final Accuracy is: \", accuracy)"
      ]
    },
    {
      "cell_type": "markdown",
      "metadata": {
        "id": "-SLq1jbSMKPm"
      },
      "source": [
        "## Step 5: Visualize Misclassified Images"
      ]
    },
    {
      "cell_type": "code",
      "execution_count": 20,
      "metadata": {
        "colab": {
          "base_uri": "https://localhost:8080/"
        },
        "id": "KAMz1RPGMN_A",
        "outputId": "9f29305f-70bb-4418-a2f9-51304c05693f"
      },
      "outputs": [
        {
          "name": "stdout",
          "output_type": "stream",
          "text": [
            "Final Accuracy: 1.0000\n",
            "All images were correctly classified!\n"
          ]
        }
      ],
      "source": [
        "# Get predictions for all data points\n",
        "predictions = np.dot(X, weights) + bias\n",
        "y_pred = np.where(predictions >= 0, 1, 0)\n",
        "\n",
        "# Calculate final accuracy\n",
        "final_accuracy = np.mean(y_pred == y)\n",
        "print(f\"Final Accuracy: {final_accuracy:.4f}\")\n",
        "\n",
        "# Step 5: Visualize Misclassified Images\n",
        "misclassified_idx = np.where(y_pred != y)[0]\n",
        "if len(misclassified_idx) > 0:\n",
        "    fig, axes = plt.subplots(2, 5, figsize=(10, 5))\n",
        "    for ax, idx in zip(axes.flat, misclassified_idx[:10]):  # Show 10 misclassified images\n",
        "        ax.imshow(X[idx].reshape(28, 28), cmap=\"gray\")\n",
        "        ax.set_title(f\"Pred: {y_pred[idx]}, True: {y[idx]}\")\n",
        "        ax.axis(\"off\")\n",
        "    plt.suptitle(\"Misclassified Images\")\n",
        "    plt.show()\n",
        "else:\n",
        "    print(\"All images were correctly classified!\")"
      ]
    },
    {
      "cell_type": "markdown",
      "metadata": {
        "id": "ct_UAn3ACRAF"
      },
      "source": [
        "What does misclassified idx store, and how is it used in this code?\n"
      ]
    },
    {
      "cell_type": "markdown",
      "metadata": {
        "id": "uVFwI4LnCUJB"
      },
      "source": [
        "The line:\n",
        "```python\n",
        "misclassified_idx = np.where(y_pred!= y)[0]\n",
        "```\n",
        "np.where(y_pred!= y)\n",
        "\n",
        "finds indices where predicted labels (y_pred) are not equal to the actual labels (y).\n",
        "misclassified_idx holds an array of indices of the misclassified images\n",
        "\n",
        "If there are misclassified images, the code selects up to 10 misclassified images with:\n",
        "\n",
        "for ax, idx in zip(axes.flat, misclassified_idx[:10]):\n",
        "\n",
        "X[idx] extracts the misclassified image from the dataset.\n",
        "\n",
        ".reshape(28, 28)\n",
        "\n",
        "re-shapes the flattened 784-pixel vector into a 28x28 grayscale image.\n",
        "\n",
        "The image is displayed with its predicted vs. true label using Matplotlib.\n",
        "If no images were misclassified, the code prints:\n",
        "\"All images were correctly classified!\""
      ]
    },
    {
      "cell_type": "markdown",
      "metadata": {
        "id": "FAnDzaWICSpj"
      },
      "source": [
        "How do you interpret the result if the output is ”All images were\n",
        "correctly classified!”?"
      ]
    },
    {
      "cell_type": "markdown",
      "metadata": {
        "id": "7sA86kEJC2gK"
      },
      "source": [
        "\n",
        "\n",
        "The perceptron learned to classify all 1s and 0s in the data correctly.\n",
        "This is to be expected as digits 0 and 1 are linearly separable, and hence can be discriminated by a single-layer perceptron very easily.\n",
        "\n",
        "Possible Overfitting\n",
        "\n",
        "If this happens on training data, it's a good thing (the model learned perfectly).\n",
        "But if this happens on test data, it may indicate overfitting, meaning the model memorized the training set rather than generalizing well."
      ]
    }
  ],
  "metadata": {
    "colab": {
      "provenance": []
    },
    "kernelspec": {
      "display_name": "Python 3",
      "name": "python3"
    },
    "language_info": {
      "name": "python"
    }
  },
  "nbformat": 4,
  "nbformat_minor": 0
}
